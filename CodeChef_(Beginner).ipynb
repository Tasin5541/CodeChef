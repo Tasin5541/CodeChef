{
  "nbformat": 4,
  "nbformat_minor": 0,
  "metadata": {
    "colab": {
      "name": "CodeChef (Beginner).ipynb",
      "provenance": [],
      "collapsed_sections": [],
      "toc_visible": true,
      "authorship_tag": "ABX9TyNMzHI87vwvlFwpNRaDVur9",
      "include_colab_link": true
    },
    "kernelspec": {
      "name": "python3",
      "display_name": "Python 3"
    }
  },
  "cells": [
    {
      "cell_type": "markdown",
      "metadata": {
        "id": "view-in-github",
        "colab_type": "text"
      },
      "source": [
        "<a href=\"https://colab.research.google.com/github/Tasin5541/CodeChef/blob/main/CodeChef_(Beginner).ipynb\" target=\"_parent\"><img src=\"https://colab.research.google.com/assets/colab-badge.svg\" alt=\"Open In Colab\"/></a>"
      ]
    },
    {
      "cell_type": "markdown",
      "metadata": {
        "id": "ru28rtYfd0xY"
      },
      "source": [
        "##ATM"
      ]
    },
    {
      "cell_type": "code",
      "metadata": {
        "colab": {
          "base_uri": "https://localhost:8080/"
        },
        "id": "K0n3CV3idwsV",
        "outputId": "043583d6-725e-4cd1-d84b-0a7ce6610628"
      },
      "source": [
        "x, y = input().split()\r\n",
        "x = int(x)\r\n",
        "y = float(y)\r\n",
        "\r\n",
        "#x, y = [int(x) for x in input().split()]\r\n",
        "\r\n",
        "if x <= (y - 0.50):\r\n",
        "    if x % 5 == 0:\r\n",
        "        y = y - (x + 0.50)\r\n",
        "        print(\"%.2f\"%y)\r\n",
        "    else:\r\n",
        "        print(\"%.2f\"%y)\r\n",
        "else:\r\n",
        "    print(\"%.2f\"%y)"
      ],
      "execution_count": null,
      "outputs": [
        {
          "output_type": "stream",
          "text": [
            "119 120.00\n",
            "120.00\n"
          ],
          "name": "stdout"
        }
      ]
    },
    {
      "cell_type": "markdown",
      "metadata": {
        "id": "wnmIiaEllqaK"
      },
      "source": [
        "##Enormous Input Test"
      ]
    },
    {
      "cell_type": "code",
      "metadata": {
        "colab": {
          "base_uri": "https://localhost:8080/"
        },
        "id": "3UKrIgxelrfJ",
        "outputId": "c03be737-8883-46a6-9f54-f8e6d4fd6069"
      },
      "source": [
        "count = 0\r\n",
        "\r\n",
        "n , k = [int(x) for x in input().split()]\r\n",
        "\r\n",
        "for i in range(n):\r\n",
        "  if int(input()) % k == 0:\r\n",
        "    count+=1\r\n",
        "    \r\n",
        "print(count)"
      ],
      "execution_count": null,
      "outputs": [
        {
          "output_type": "stream",
          "text": [
            "7 3\n",
            "1\n",
            "51\n",
            "966369\n",
            "7\n",
            "9\n",
            "999996\n",
            "11\n",
            "4\n"
          ],
          "name": "stdout"
        }
      ]
    },
    {
      "cell_type": "markdown",
      "metadata": {
        "id": "lDSIfVxzmsdg"
      },
      "source": [
        "##Add Two Numbers"
      ]
    },
    {
      "cell_type": "code",
      "metadata": {
        "colab": {
          "base_uri": "https://localhost:8080/"
        },
        "id": "-yPQAjV2mtqo",
        "outputId": "b69f8065-3970-4ea5-f6bd-2a1652834541"
      },
      "source": [
        "T = int(input())\r\n",
        "\r\n",
        "for i in range(T):\r\n",
        "  A, B = [int(x) for x in input().split()]\r\n",
        "  print(A+B)"
      ],
      "execution_count": null,
      "outputs": [
        {
          "output_type": "stream",
          "text": [
            "3\n",
            "1 2\n",
            "3\n",
            "100 200\n",
            "300\n",
            "300 400\n",
            "700\n"
          ],
          "name": "stdout"
        }
      ]
    },
    {
      "cell_type": "markdown",
      "metadata": {
        "id": "NWajxwCfoDmm"
      },
      "source": [
        "##Small factorials"
      ]
    },
    {
      "cell_type": "code",
      "metadata": {
        "colab": {
          "base_uri": "https://localhost:8080/"
        },
        "id": "uCb8tmHEoEs_",
        "outputId": "74ac0f10-4e12-4631-85d3-9ae006226838"
      },
      "source": [
        "def fact(number):\r\n",
        "  if number == 1:\r\n",
        "    return 1\r\n",
        "  return number * fact(number -1)\r\n",
        "\r\n",
        "t= int(input())\r\n",
        "\r\n",
        "for i in range(t):\r\n",
        "  print(fact(int(input())))"
      ],
      "execution_count": null,
      "outputs": [
        {
          "output_type": "stream",
          "text": [
            "3\n",
            "1\n",
            "1\n",
            "5\n",
            "120\n",
            "3\n",
            "6\n"
          ],
          "name": "stdout"
        }
      ]
    },
    {
      "cell_type": "markdown",
      "metadata": {
        "id": "90-zwx9Dp_8L"
      },
      "source": [
        "##Turbo Sort"
      ]
    },
    {
      "cell_type": "code",
      "metadata": {
        "colab": {
          "base_uri": "https://localhost:8080/"
        },
        "id": "LI3gHvNsqAOT",
        "outputId": "a3464ded-0154-4728-e8a3-e1a444d29375"
      },
      "source": [
        "def insertionSort(arr): \r\n",
        "  for i in range(1, len(arr)): \r\n",
        "    key = arr[i] \r\n",
        "    j = i-1\r\n",
        "\r\n",
        "    while j >=0 and key < arr[j] : \r\n",
        "      arr[j+1] = arr[j] \r\n",
        "      j -= 1\r\n",
        "\r\n",
        "    arr[j+1] = key \r\n",
        "\r\n",
        "arr = []\r\n",
        "t= int(input())\r\n",
        "\r\n",
        "for i in range(t):\r\n",
        "  arr.append(int(input()))\r\n",
        "\r\n",
        "insertionSort(arr)\r\n",
        "for i in arr:\r\n",
        "  print(i)"
      ],
      "execution_count": null,
      "outputs": [
        {
          "output_type": "stream",
          "text": [
            "5\n",
            "3\n",
            "1\n",
            "0\n",
            "5\n",
            "6\n",
            "0\n",
            "1\n",
            "3\n",
            "5\n",
            "6\n"
          ],
          "name": "stdout"
        }
      ]
    },
    {
      "cell_type": "code",
      "metadata": {
        "id": "UFVeZWD5t_M7"
      },
      "source": [
        "def partition(arr, low, high): \r\n",
        "    i = (low-1)         # index of smaller element \r\n",
        "    pivot = arr[high]     # pivot \r\n",
        "  \r\n",
        "    for j in range(low, high): \r\n",
        "  \r\n",
        "        # If current element is smaller than or \r\n",
        "        # equal to pivot \r\n",
        "        if arr[j] <= pivot: \r\n",
        "  \r\n",
        "            # increment index of smaller element \r\n",
        "            i = i+1\r\n",
        "            arr[i], arr[j] = arr[j], arr[i] \r\n",
        "  \r\n",
        "    arr[i+1], arr[high] = arr[high], arr[i+1] \r\n",
        "    return (i+1) \r\n",
        "  \r\n",
        "# The main function that implements QuickSort \r\n",
        "# arr[] --> Array to be sorted, \r\n",
        "# low  --> Starting index, \r\n",
        "# high  --> Ending index \r\n",
        "  \r\n",
        "# Function to do Quick sort \r\n",
        "  \r\n",
        "  \r\n",
        "def quickSort(arr, low, high): \r\n",
        "    if len(arr) == 1: \r\n",
        "        return arr \r\n",
        "    if low < high: \r\n",
        "  \r\n",
        "        # pi is partitioning index, arr[p] is now \r\n",
        "        # at right place \r\n",
        "        pi = partition(arr, low, high) \r\n",
        "  \r\n",
        "        # Separately sort elements before \r\n",
        "        # partition and after partition \r\n",
        "        quickSort(arr, low, pi-1) \r\n",
        "        quickSort(arr, pi+1, high)\r\n",
        "\r\n",
        "\r\n",
        "arr = []\r\n",
        "t= int(input())\r\n",
        "\r\n",
        "for i in range(t):\r\n",
        "  arr.append(int(input()))\r\n",
        "\r\n",
        "quickSort(arr, 0, len(arr)-1)\r\n",
        "for i in arr:\r\n",
        "  print(i)"
      ],
      "execution_count": null,
      "outputs": []
    },
    {
      "cell_type": "markdown",
      "metadata": {
        "id": "nlxTOqHbAQr3"
      },
      "source": [
        "##First and Last Digit"
      ]
    },
    {
      "cell_type": "code",
      "metadata": {
        "colab": {
          "base_uri": "https://localhost:8080/"
        },
        "id": "2HL8-aREATUk",
        "outputId": "6cbb60b3-6177-47ba-80a2-8429e0cf8929"
      },
      "source": [
        "T = int(input())\r\n",
        "\r\n",
        "for i in range(T):\r\n",
        "  N = int(input())\r\n",
        "  LastDigit = N % 10\r\n",
        "  FirstDigit = LastDigit\r\n",
        "  N = int(N/10)\r\n",
        "  while(N):\r\n",
        "    FirstDigit = N % 10\r\n",
        "    N = int(N/10)\r\n",
        "  print(FirstDigit + LastDigit)"
      ],
      "execution_count": null,
      "outputs": [
        {
          "output_type": "stream",
          "text": [
            "1\n",
            "2360\n",
            "2\n"
          ],
          "name": "stdout"
        }
      ]
    },
    {
      "cell_type": "markdown",
      "metadata": {
        "id": "KuQYwIH8QSEJ"
      },
      "source": [
        "##Lucky Four"
      ]
    },
    {
      "cell_type": "code",
      "metadata": {
        "colab": {
          "base_uri": "https://localhost:8080/"
        },
        "id": "_nyJg0ABBVbS",
        "outputId": "fbc4c624-ce33-446d-d33a-2e3976949e3a"
      },
      "source": [
        "T = int(input())\r\n",
        "\r\n",
        "for i in range(T):\r\n",
        "  count = 0\r\n",
        "  N = int(input())\r\n",
        "  while(N):\r\n",
        "    if N % 10 == 4:\r\n",
        "      count+=1\r\n",
        "    N = int(N/10)\r\n",
        "  print(count)"
      ],
      "execution_count": null,
      "outputs": [
        {
          "output_type": "stream",
          "text": [
            "2\n",
            "4465\n",
            "2\n",
            "035\n",
            "0\n"
          ],
          "name": "stdout"
        }
      ]
    },
    {
      "cell_type": "markdown",
      "metadata": {
        "id": "5nRFUaPtWsf-"
      },
      "source": [
        "##Reverse The Number"
      ]
    },
    {
      "cell_type": "code",
      "metadata": {
        "colab": {
          "base_uri": "https://localhost:8080/"
        },
        "id": "e2BgWKFMWtvt",
        "outputId": "7808d980-eb27-45ba-d893-1e8fbe271b14"
      },
      "source": [
        "T = int(input())\r\n",
        "\r\n",
        "for i in range(T):\r\n",
        "  r = 0\r\n",
        "  N = int(input())\r\n",
        "  while(N):\r\n",
        "    r = (N % 10) + r * 10\r\n",
        "    N = int(N/10)\r\n",
        "  print(r)"
      ],
      "execution_count": null,
      "outputs": [
        {
          "output_type": "stream",
          "text": [
            "1\n",
            "2365\n",
            "5632\n"
          ],
          "name": "stdout"
        }
      ]
    },
    {
      "cell_type": "markdown",
      "metadata": {
        "id": "Je90abc2YOHU"
      },
      "source": [
        "##Finding Square Roots"
      ]
    },
    {
      "cell_type": "code",
      "metadata": {
        "colab": {
          "base_uri": "https://localhost:8080/"
        },
        "id": "N0RVR_JTYPSN",
        "outputId": "a4f8bb1d-67d1-495e-e101-8d44c798d765"
      },
      "source": [
        "import math\r\n",
        "\r\n",
        "T = int(input())\r\n",
        "\r\n",
        "for i in range(T):\r\n",
        "  N = int(input())\r\n",
        "  print(round(math.sqrt(N)))"
      ],
      "execution_count": null,
      "outputs": [
        {
          "output_type": "stream",
          "text": [
            "1\n",
            "10\n",
            "3\n"
          ],
          "name": "stdout"
        }
      ]
    },
    {
      "cell_type": "markdown",
      "metadata": {
        "id": "_UgQ-Bh1aXOA"
      },
      "source": [
        "##The Lead Game"
      ]
    },
    {
      "cell_type": "code",
      "metadata": {
        "id": "cKqswo3uaZp3"
      },
      "source": [
        "T = int(input())\r\n",
        "player1 = 0\r\n",
        "player2 = 0\r\n",
        "maxLead = 0\r\n",
        "win = 0\r\n",
        "\r\n",
        "for i in range(T):\r\n",
        "  x, y = [int(j) for j in input().split()]\r\n",
        "  player1+=x\r\n",
        "  player2+=y\r\n",
        "\r\n",
        "  if player1 > player2:\r\n",
        "    lead = player1 - player2\r\n",
        "    if lead > maxLead:\r\n",
        "      win = 1\r\n",
        "      maxLead = lead\r\n",
        "  \r\n",
        "  else:\r\n",
        "    lead = player2 - player1\r\n",
        "    if lead > maxLead:\r\n",
        "      win = 2\r\n",
        "      maxLead = lead\r\n",
        "  \r\n",
        "print(\"{} {}\".format(win,maxLead))"
      ],
      "execution_count": null,
      "outputs": []
    },
    {
      "cell_type": "markdown",
      "metadata": {
        "id": "4_H857b0eqpJ"
      },
      "source": [
        "##Packaging Cupcakes"
      ]
    },
    {
      "cell_type": "code",
      "metadata": {
        "colab": {
          "base_uri": "https://localhost:8080/"
        },
        "id": "v714eeaAet3w",
        "outputId": "9985ee95-5e07-45dd-967e-385bc58dda50"
      },
      "source": [
        "import math\r\n",
        "\r\n",
        "T = int(input())\r\n",
        "\r\n",
        "for i in range(T):\r\n",
        "  N = int(input())\r\n",
        "  if N % 2 == 0:\r\n",
        "    print(math.ceil(N/2) + 1)\r\n",
        "  else:\r\n",
        "    print(math.ceil(N/2))"
      ],
      "execution_count": null,
      "outputs": [
        {
          "output_type": "stream",
          "text": [
            "1\n",
            "8\n",
            "5\n"
          ],
          "name": "stdout"
        }
      ]
    },
    {
      "cell_type": "markdown",
      "metadata": {
        "id": "auTyUrsUrD1j"
      },
      "source": [
        "##Second Largest"
      ]
    },
    {
      "cell_type": "code",
      "metadata": {
        "colab": {
          "base_uri": "https://localhost:8080/"
        },
        "id": "coeU-xWPrGLR",
        "outputId": "bd0ee312-dc1b-4d13-c1bc-c1dd8cfbae52"
      },
      "source": [
        "T = int(input())\r\n",
        "\r\n",
        "for i in range(T):\r\n",
        "  A, B, C = [int(x) for x in input().split()]\r\n",
        "\r\n",
        "  if (A > B and A < C) or (A < B and A > C):\r\n",
        "    print(A)\r\n",
        "  elif (B > A and B < C) or (B < A and B > C):\r\n",
        "    print(B)\r\n",
        "  else:\r\n",
        "    print(C)"
      ],
      "execution_count": null,
      "outputs": [
        {
          "output_type": "stream",
          "text": [
            "1\n",
            "5 9 13\n",
            "9\n"
          ],
          "name": "stdout"
        }
      ]
    },
    {
      "cell_type": "markdown",
      "metadata": {
        "id": "xJtfMALTsaJh"
      },
      "source": [
        "##Small Factorial"
      ]
    },
    {
      "cell_type": "code",
      "metadata": {
        "colab": {
          "base_uri": "https://localhost:8080/"
        },
        "id": "GXMsTod8sbfx",
        "outputId": "d98c03b2-0504-4d1e-cf83-0830ffa655c4"
      },
      "source": [
        "T = int(input())\r\n",
        "\r\n",
        "for i in range(T):\r\n",
        "  fact = 1\r\n",
        "  N = int(input())\r\n",
        "  if N <= 1:\r\n",
        "    print(fact)\r\n",
        "  else:\r\n",
        "    for j in range(2, N+1):\r\n",
        "      fact*=j\r\n",
        "    print(fact)"
      ],
      "execution_count": null,
      "outputs": [
        {
          "output_type": "stream",
          "text": [
            "1\n",
            "3\n",
            "6\n"
          ],
          "name": "stdout"
        }
      ]
    },
    {
      "cell_type": "markdown",
      "metadata": {
        "id": "x4S8cmoMtnVm"
      },
      "source": [
        "##Helping Chef"
      ]
    },
    {
      "cell_type": "code",
      "metadata": {
        "colab": {
          "base_uri": "https://localhost:8080/"
        },
        "id": "79YIz7dbtofm",
        "outputId": "36908b78-c0b7-4a67-aefb-2a473cb72474"
      },
      "source": [
        "T = int(input())\r\n",
        "\r\n",
        "for i in range(T):\r\n",
        "  N = int(input())\r\n",
        "  if N < 10 :\r\n",
        "    print(\"Thanks for helping Chef!\")\r\n",
        "  else:\r\n",
        "    print(-1)"
      ],
      "execution_count": null,
      "outputs": [
        {
          "output_type": "stream",
          "text": [
            "1\n",
            "-5\n",
            "Thanks for helping Chef!\n"
          ],
          "name": "stdout"
        }
      ]
    },
    {
      "cell_type": "markdown",
      "metadata": {
        "id": "S0HTo0lCuZEk"
      },
      "source": [
        "##Chef And Operators "
      ]
    },
    {
      "cell_type": "code",
      "metadata": {
        "id": "3a7VLNr9uaH8"
      },
      "source": [
        "T = int(input())\r\n",
        "\r\n",
        "for i in range(T):\r\n",
        "  a, b = [int(x) for x in input().split()]\r\n",
        "\r\n",
        "  if a>b:\r\n",
        "    print(\">\")\r\n",
        "  elif a<b:\r\n",
        "    print(\"<\")\r\n",
        "  else:\r\n",
        "    print(\"=\")"
      ],
      "execution_count": null,
      "outputs": []
    },
    {
      "cell_type": "markdown",
      "metadata": {
        "id": "5A-uNluxyTGu"
      },
      "source": [
        "##Greedy puppy"
      ]
    },
    {
      "cell_type": "code",
      "metadata": {
        "colab": {
          "base_uri": "https://localhost:8080/"
        },
        "id": "1KTa8NHJyURd",
        "outputId": "516c5d45-c0d5-48c6-df2a-bb8473b3ad7d"
      },
      "source": [
        "T = int(input())\r\n",
        "\r\n",
        "for i in range(T):\r\n",
        "  n, k = [int(x) for x in input().split()]\r\n",
        "  max = -1\r\n",
        "  for j in range(1, k+1):\r\n",
        "    r = n % j\r\n",
        "    if r > max:\r\n",
        "      max = r\r\n",
        "  print(max)"
      ],
      "execution_count": null,
      "outputs": [
        {
          "output_type": "stream",
          "text": [
            "1\n",
            "15 1\n",
            "0\n"
          ],
          "name": "stdout"
        }
      ]
    },
    {
      "cell_type": "markdown",
      "metadata": {
        "id": "iNt2AkP_3tb-"
      },
      "source": [
        "##The Smallest Pair"
      ]
    },
    {
      "cell_type": "code",
      "metadata": {
        "colab": {
          "base_uri": "https://localhost:8080/"
        },
        "id": "qEKwocpM3uXV",
        "outputId": "1f6e73ac-a68e-4895-bd4b-1392377a19df"
      },
      "source": [
        "T = int(input())\r\n",
        "\r\n",
        "for i in range(T):\r\n",
        "  n = int(input())\r\n",
        "  #a = [0] * n\r\n",
        "  a = [int(x) for x in input().split()]\r\n",
        "  min = (2 * 10**6) + 1\r\n",
        "  for j in range(n):\r\n",
        "    for k in range(n):\r\n",
        "      if j == k:\r\n",
        "        continue;\r\n",
        "      sum = a[j] + a[k]\r\n",
        "      if sum < min:\r\n",
        "        min = sum\r\n",
        "  print(min)"
      ],
      "execution_count": null,
      "outputs": [
        {
          "output_type": "stream",
          "text": [
            "1\n",
            "4\n",
            "5 1 3 4\n",
            "4\n"
          ],
          "name": "stdout"
        }
      ]
    },
    {
      "cell_type": "code",
      "metadata": {
        "colab": {
          "base_uri": "https://localhost:8080/"
        },
        "id": "0OLvmEoX8ujT",
        "outputId": "a3bed71c-4327-4d4d-cfd1-aa0d1a08aa8f"
      },
      "source": [
        "T = int(input())\r\n",
        "\r\n",
        "for i in range(T):\r\n",
        "  n = int(input())\r\n",
        "  #a = [0] * n\r\n",
        "  a = [int(x) for x in input().split()]\r\n",
        "  a.sort()\r\n",
        "  print(a[0]+a[1])"
      ],
      "execution_count": null,
      "outputs": [
        {
          "output_type": "stream",
          "text": [
            "1\n",
            "4\n",
            "1 2 3 4\n",
            "3\n"
          ],
          "name": "stdout"
        }
      ]
    },
    {
      "cell_type": "markdown",
      "metadata": {
        "id": "stWmXMkf05Bz"
      },
      "source": [
        "##Ambiguous Permutations"
      ]
    },
    {
      "cell_type": "code",
      "metadata": {
        "colab": {
          "base_uri": "https://localhost:8080/"
        },
        "id": "oExNsxSV06U6",
        "outputId": "af96e1e0-e352-47d4-bed6-ce939325197f"
      },
      "source": [
        "while True:\r\n",
        "  n = int(input())\r\n",
        "  if n == 0:\r\n",
        "    break;\r\n",
        "  arr = [int(x) for x in input().split()]\r\n",
        "  flag = False\r\n",
        "  for i in range(n):\r\n",
        "    if i+1 != arr[arr[i]-1] :\r\n",
        "      flag = True\r\n",
        "      break;\r\n",
        "  if flag:\r\n",
        "      print(\"not ambiguous\")\r\n",
        "  else:\r\n",
        "      print(\"ambiguous\")"
      ],
      "execution_count": null,
      "outputs": [
        {
          "output_type": "stream",
          "text": [
            "4\n",
            "1 4 3 2\n",
            "ambiguous\n",
            "5\n",
            "2 3 4 5 1\n",
            "not ambiguous\n",
            "1\n",
            "1\n",
            "ambiguous\n",
            "0\n"
          ],
          "name": "stdout"
        }
      ]
    },
    {
      "cell_type": "markdown",
      "metadata": {
        "id": "ap-yrO2e6dnR"
      },
      "source": [
        "##Is it a VOWEL or CONSONANT"
      ]
    },
    {
      "cell_type": "code",
      "metadata": {
        "colab": {
          "base_uri": "https://localhost:8080/"
        },
        "id": "esVHmr1O6e0J",
        "outputId": "2ae3b2c4-405b-4bc6-938b-f41a2ee3188d"
      },
      "source": [
        "c = input()\r\n",
        "\r\n",
        "if c==\"A\" or c==\"E\" or c==\"I\" or c==\"O\" or c==\"U\":\r\n",
        "  print(\"Vowel\")\r\n",
        "else:\r\n",
        "  print(\"Consonant\")"
      ],
      "execution_count": null,
      "outputs": [
        {
          "output_type": "stream",
          "text": [
            "E\n",
            "Vowel\n"
          ],
          "name": "stdout"
        }
      ]
    },
    {
      "cell_type": "markdown",
      "metadata": {
        "id": "OcDKwe5J-nVl"
      },
      "source": [
        "##Minimum Maximum"
      ]
    },
    {
      "cell_type": "code",
      "metadata": {
        "colab": {
          "base_uri": "https://localhost:8080/"
        },
        "id": "PGPX192Z-oUt",
        "outputId": "832259ff-b986-4433-a513-bd026f437723"
      },
      "source": [
        "t = int(input())\r\n",
        "for i in range(t):\r\n",
        "  n = int(input())\r\n",
        "  a = [int(x) for x in input().split()]\r\n",
        "  min = 10**5 + 1\r\n",
        "  for j in range(n):\r\n",
        "    if a[j] < min:\r\n",
        "      min = a[j]\r\n",
        "  print((n-1)*min)"
      ],
      "execution_count": null,
      "outputs": [
        {
          "output_type": "stream",
          "text": [
            "1\n",
            "3\n",
            "4 5 2\n",
            "4\n"
          ],
          "name": "stdout"
        }
      ]
    },
    {
      "cell_type": "markdown",
      "metadata": {
        "id": "jeGvbpYHCZfl"
      },
      "source": [
        "##Chef and digits of a number"
      ]
    },
    {
      "cell_type": "code",
      "metadata": {
        "id": "MH8y72yJCatc"
      },
      "source": [
        "t = int(input())\r\n",
        "for i in range(t):\r\n",
        "  oneCount = 0\r\n",
        "  zeroCount = 0\r\n",
        "  d = input()\r\n",
        "  for j in d:\r\n",
        "    if j == \"1\":\r\n",
        "      oneCount+=1\r\n",
        "    else:\r\n",
        "      zeroCount+=1\r\n",
        "  if oneCount==1 or zeroCount==1:\r\n",
        "    print(\"Yes\")\r\n",
        "  else:\r\n",
        "    print(\"No\")"
      ],
      "execution_count": null,
      "outputs": []
    },
    {
      "cell_type": "markdown",
      "metadata": {
        "id": "xnYESzh-JAOt"
      },
      "source": [
        "##Chef and Rainbow Array**"
      ]
    },
    {
      "cell_type": "code",
      "metadata": {
        "id": "owjdWEqcJCO7"
      },
      "source": [
        "def inRange(uniqueSet):\r\n",
        "  k = 1\r\n",
        "  for j in uniqueSet:\r\n",
        "    if j != k:\r\n",
        "      return False\r\n",
        "    k+=1\r\n",
        "  return True\r\n",
        "\r\n",
        "def isRainbow(arr, n):\r\n",
        "  for m in range(n):\r\n",
        "    if arr[m] != arr[n-1-m] :\r\n",
        "      return False\r\n",
        "  return True\r\n",
        "\r\n",
        "t = int(input())\r\n",
        "\r\n",
        "for i in range(t):\r\n",
        "  n = int(input())\r\n",
        "  a = [int(x) for x in input().split()]\r\n",
        "  uniqueSet = set(a)\r\n",
        "  if len(uniqueSet) > 7 or len(uniqueSet) < 7 :\r\n",
        "    print(\"no\")\r\n",
        "    continue\r\n",
        "  elif not inRange(uniqueSet):\r\n",
        "    print(\"no\")\r\n",
        "    continue\r\n",
        "  elif not isRainbow(a, n):\r\n",
        "    print(\"no\")\r\n",
        "    continue\r\n",
        "  else:\r\n",
        "    print(\"yes\")"
      ],
      "execution_count": null,
      "outputs": []
    },
    {
      "cell_type": "markdown",
      "metadata": {
        "id": "0DCAyg3NeYxs"
      },
      "source": [
        "##Two Numbers"
      ]
    },
    {
      "cell_type": "code",
      "metadata": {
        "id": "4BPuAqm2eZ9M"
      },
      "source": [
        "t = int(input())\r\n",
        "\r\n",
        "for i in range(t):\r\n",
        "  a, b, n = [int(x) for x in input().split()]\r\n",
        "  if a==b :\r\n",
        "    if n % 2 == 0 :\r\n",
        "      print(1)\r\n",
        "    else:\r\n",
        "      print(2)\r\n",
        "  elif a<b :\r\n",
        "    if n % 2 == 0 :\r\n",
        "      print(int(b/a))\r\n",
        "    else:\r\n",
        "      a = a * 2\r\n",
        "      if a > b :\r\n",
        "        print(int(a/b))\r\n",
        "      else:\r\n",
        "        print(int(b/a))\r\n",
        "  elif a>b :\r\n",
        "    if n % 2 == 0 :\r\n",
        "      print(int(a/b))\r\n",
        "    else:\r\n",
        "      a = a * 2\r\n",
        "      if a > b :\r\n",
        "        print(int(a/b))\r\n",
        "      else:\r\n",
        "        print(int(b/a))"
      ],
      "execution_count": null,
      "outputs": []
    },
    {
      "cell_type": "markdown",
      "metadata": {
        "id": "x_bPEPWVjKfU"
      },
      "source": [
        "##Cats and Dogs"
      ]
    },
    {
      "cell_type": "code",
      "metadata": {
        "id": "otszfaikjLuS"
      },
      "source": [
        "t = int(input())\r\n",
        "\r\n",
        "for i in range(t):\r\n",
        "  c, d, l = [int(x) for x in input().split()]\r\n",
        "\r\n",
        "  if l <= (c+d)*4 and l%4 == 0 :\r\n",
        "    if d>0 :\r\n",
        "      if c <= d*2 :\r\n",
        "        if l == d*4 :\r\n",
        "          print(\"yes\")\r\n",
        "        elif l >= d*4:\r\n",
        "          print(\"yes\")\r\n",
        "        else:\r\n",
        "          print(\"no\")\r\n",
        "\r\n",
        "      elif l >= (d*4 + (c - d*2)*4) :\r\n",
        "        print(\"yes\")\r\n",
        "      else:\r\n",
        "        print(\"no\")\r\n",
        "\r\n",
        "    elif l == c*4 :\r\n",
        "      print(\"yes\")\r\n",
        "    else:\r\n",
        "      print(\"no\")\r\n",
        "\r\n",
        "  else:\r\n",
        "    print(\"no\")\r\n"
      ],
      "execution_count": null,
      "outputs": []
    },
    {
      "cell_type": "markdown",
      "metadata": {
        "id": "bSA4l9JOswPa"
      },
      "source": [
        "##Program Your Own CALCULATOR"
      ]
    },
    {
      "cell_type": "code",
      "metadata": {
        "colab": {
          "base_uri": "https://localhost:8080/"
        },
        "id": "jGg8IewzszHR",
        "outputId": "3cc1b0d1-093d-4f33-e652-7542d5ba4e8d"
      },
      "source": [
        "import operator\r\n",
        "\r\n",
        "a = float(input())\r\n",
        "b = float(input())\r\n",
        "c = input()\r\n",
        "\r\n",
        "ops = {\r\n",
        "    \"+\": operator.add,\r\n",
        "    \"-\": operator.sub,\r\n",
        "    \"*\": operator.mul,\r\n",
        "    \"/\": operator.truediv\r\n",
        "}\r\n",
        "\r\n",
        "op_func = ops[c]\r\n",
        "print(op_func(a, b))"
      ],
      "execution_count": null,
      "outputs": [
        {
          "output_type": "stream",
          "text": [
            "1 2 *\n",
            "2.0\n"
          ],
          "name": "stdout"
        }
      ]
    },
    {
      "cell_type": "markdown",
      "metadata": {
        "id": "QXdsVfbD6LlC"
      },
      "source": [
        "##Sticks "
      ]
    },
    {
      "cell_type": "code",
      "metadata": {
        "colab": {
          "base_uri": "https://localhost:8080/"
        },
        "id": "HOx4dAoY6M0z",
        "outputId": "08fc1aa8-032e-42fc-d6be-4679b73b180e"
      },
      "source": [
        "t = int(input())\r\n",
        "\r\n",
        "for i in range(t):\r\n",
        "  n = int(input())\r\n",
        "  a = [int(x) for x in input().split()]\r\n",
        "  mp = dict()\r\n",
        "\r\n",
        "  for j in range(n):\r\n",
        "    if a[j] in mp.keys():\r\n",
        "      mp[a[j]]+=1\r\n",
        "    else:\r\n",
        "      mp[a[j]]=1\r\n",
        "  \r\n",
        "  na = []\r\n",
        "  for k in mp:\r\n",
        "    if mp[k] >= 2:\r\n",
        "      na.append(k)\r\n",
        "  na.sort(reverse=True)\r\n",
        "\r\n",
        "  if mp[na[0]] >= 4:\r\n",
        "    print(na[0]*na[0])\r\n",
        "  elif len(na) >= 2:\r\n",
        "    print(na[0]*na[1])\r\n",
        "  else:\r\n",
        "    print(-1)"
      ],
      "execution_count": null,
      "outputs": [
        {
          "output_type": "stream",
          "text": [
            "1\n",
            "9\n",
            "9 5 4 1 1 5 9 5 1\n",
            "45\n"
          ],
          "name": "stdout"
        }
      ]
    },
    {
      "cell_type": "markdown",
      "metadata": {
        "id": "F3Jq9A6OEDtR"
      },
      "source": [
        "##IPL and RCB"
      ]
    },
    {
      "cell_type": "code",
      "metadata": {
        "colab": {
          "base_uri": "https://localhost:8080/"
        },
        "id": "nL93e3vuEEzD",
        "outputId": "a61de995-263a-43dd-d443-d96f67ee3ecb"
      },
      "source": [
        "t = int(input())\r\n",
        "\r\n",
        "for i in range(t):\r\n",
        "  x, y = [int(x) for x in input().split()]\r\n",
        "  draw = int(x/1)\r\n",
        "  if draw>y and draw-y <= y:\r\n",
        "    print(draw-y)\r\n",
        "  else:\r\n",
        "    print(0)"
      ],
      "execution_count": null,
      "outputs": [
        {
          "output_type": "stream",
          "text": [
            "1\n",
            "200 5\n",
            "0\n"
          ],
          "name": "stdout"
        }
      ]
    },
    {
      "cell_type": "markdown",
      "metadata": {
        "id": "meOUMwJNLtgs"
      },
      "source": [
        "##Point Of Impact"
      ]
    },
    {
      "cell_type": "code",
      "metadata": {
        "id": "nMO5eme_Luoz"
      },
      "source": [
        "t = int(input())\r\n",
        "\r\n",
        "for i in range(t):\r\n",
        "  n, k, x, y = [int(x) for x in input().split()]\r\n",
        "\r\n",
        "  a = [0]*4\r\n",
        "  b = [0]*4\r\n",
        "\r\n",
        "  if x==y:\r\n",
        "    print(n, n)\r\n",
        "  else:\r\n",
        "    if x > y:\r\n",
        "      a[1] = n\r\n",
        "      b[1] = y + n - x\r\n",
        "\r\n",
        "      a[2] = a[1] + b[1] - n\r\n",
        "      b[2] = n\r\n",
        "\r\n",
        "      a[3] = 0\r\n",
        "      b[3] = b[2] - a[2]\r\n",
        "\r\n",
        "      a[0] = a[3] + b[3]\r\n",
        "      b[0] = 0\r\n",
        "\r\n",
        "    else:\r\n",
        "      a[1] = x + n - y\r\n",
        "      b[1] = n\r\n",
        "\r\n",
        "      a[2] = n\r\n",
        "      b[2] = a[1] + b[1] - n\r\n",
        "\r\n",
        "      a[3] = a[2] - b[2]\r\n",
        "      b[3] = 0\r\n",
        "\r\n",
        "      a[0] = 0\r\n",
        "      b[0] = a[3] + b[3]\r\n",
        "\r\n",
        "    print(a[k%4], b[k%4])\r\n"
      ],
      "execution_count": null,
      "outputs": []
    },
    {
      "cell_type": "code",
      "metadata": {
        "colab": {
          "base_uri": "https://localhost:8080/"
        },
        "id": "_HmboltuUsIR",
        "outputId": "0119d14e-0bf2-4403-97c8-412ec505b4c4"
      },
      "source": [
        "t = int(input())\r\n",
        "\r\n",
        "for i in range(t):\r\n",
        "  n, k, x, y = [int(x) for x in input().split()]\r\n",
        "  d = x-y\r\n",
        "  a = abs(d)\r\n",
        "  b = n - a\r\n",
        "\r\n",
        "  if d==0:\r\n",
        "    coord = [(n, n)]\r\n",
        "  elif d>0:\r\n",
        "    coord = [(a, 0), (n, b), (b, n), (0, a)]\r\n",
        "  else:\r\n",
        "    coord = [(0, a), (b, n), (n, b), (a, 0)]\r\n",
        "\r\n",
        "  print(coord[k%len(coord)][0], coord[k%len(coord)][1])"
      ],
      "execution_count": null,
      "outputs": [
        {
          "output_type": "stream",
          "text": [
            "2\n",
            "5 5 4 4\n",
            "5 5\n",
            "5 2 3 1\n",
            "3 5\n"
          ],
          "name": "stdout"
        }
      ]
    },
    {
      "cell_type": "markdown",
      "metadata": {
        "id": "FmCfahYovmlU"
      },
      "source": [
        "##Encoded String"
      ]
    },
    {
      "cell_type": "code",
      "metadata": {
        "colab": {
          "base_uri": "https://localhost:8080/"
        },
        "id": "AVrofTrOvnsk",
        "outputId": "8ca7eae9-19da-41f5-9ba2-4a9ba7860635"
      },
      "source": [
        "alpha = [\"a\", \"b\", \"c\", \"d\", \"e\", \"f\", \"g\", \"h\", \"i\", \"j\", \"k\", \"l\", \"m\", \"n\", \"o\", \"p\"]\r\n",
        "t = int(input())\r\n",
        "\r\n",
        "for i in range(t):\r\n",
        "  n = int(input())\r\n",
        "  s = input()\r\n",
        "  bit = 0\r\n",
        "  start = 0\r\n",
        "  end = 15\r\n",
        "  mid = 7\r\n",
        "  string = \"\"\r\n",
        "  for i in range(n):\r\n",
        "    bit+=1\r\n",
        "    if int(s[i]) == 0:\r\n",
        "      end = mid\r\n",
        "    else:\r\n",
        "      start = mid+1\r\n",
        "\r\n",
        "    mid = start + int((end - start)/2)\r\n",
        "\r\n",
        "    if bit == 4:\r\n",
        "      string+= alpha[mid]\r\n",
        "      bit = 0\r\n",
        "      start = 0\r\n",
        "      end = 15\r\n",
        "      mid = 7\r\n",
        "    \r\n",
        "  print(string) "
      ],
      "execution_count": null,
      "outputs": [
        {
          "output_type": "stream",
          "text": [
            "1\n",
            "12\n",
            "000011110000\n",
            "apa\n"
          ],
          "name": "stdout"
        }
      ]
    }
  ]
}